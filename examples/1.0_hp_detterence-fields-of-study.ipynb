{
 "cells": [
  {
   "cell_type": "code",
   "execution_count": 1,
   "metadata": {},
   "outputs": [],
   "source": [
    "import requests\n",
    "import pandas as pd\n",
    "from time import sleep\n",
    "from ratelimit import limits, sleep_and_retry"
   ]
  },
  {
   "cell_type": "code",
   "execution_count": 2,
   "metadata": {},
   "outputs": [],
   "source": [
    "TOKEN = \"\""
   ]
  },
  {
   "cell_type": "code",
   "execution_count": 3,
   "metadata": {},
   "outputs": [],
   "source": [
    "def chunks(l, n=999):\n",
    "    \"\"\"Yield successive n-sized chunks from lst.\"\"\"\n",
    "    for i in range(0, len(l), n):\n",
    "        yield l[i:i + n]\n",
    "\n",
    "\n",
    "@sleep_and_retry\n",
    "@limits(calls=9, period=60)\n",
    "def remote_call(dois: list, token: str):\n",
    "    \"\"\"Get fields of study using a list of dois.\"\"\"\n",
    "    headers = {\n",
    "        \"Authorization\": f\"Bearer {token}\",\n",
    "        \"Content-Type\": \"application/json\"\n",
    "    }\n",
    "    data = \"\"\"{\n",
    "        \"query\": {\n",
    "            \"terms\": {\n",
    "                \"doi\": REPLACE\n",
    "            }\n",
    "        },\n",
    "        \"size\": 1000,\n",
    "        \"include\": [\"fields_of_study\", \"external_ids\"]\n",
    "    }\"\"\".replace(\"REPLACE\", str(dois).replace(\"'\", '\"'))\n",
    "    response = requests.post(\n",
    "        \"https://api.lens.org/scholarly/search\", \n",
    "        data=data, \n",
    "        headers=headers\n",
    "    )\n",
    "    return response.json()\n",
    "\n",
    "\n",
    "def process(response):\n",
    "    \"\"\"Yield processed article items\"\"\"\n",
    "    data = response[\"data\"]\n",
    "    for item in data:\n",
    "        yield {\n",
    "            \"doi\": \"\".join(doi[\"value\"] for doi in item[\"external_ids\"] if doi[\"type\"]==\"doi\"),\n",
    "            \"fields\": \"_\".join(item.get(\"fields_of_study\", \"\")) or \"No data.\"\n",
    "        }"
   ]
  },
  {
   "cell_type": "code",
   "execution_count": 4,
   "metadata": {},
   "outputs": [],
   "source": [
    "df = pd.read_csv(\"../data/deterrence-broad-scite.csv\")"
   ]
  },
  {
   "cell_type": "code",
   "execution_count": 5,
   "metadata": {},
   "outputs": [],
   "source": [
    "# valid DOIs\n",
    "DOIs = df.loc[df[\"doi\"].str.contains(\"^10\\.\\d{4,9}/[-._;()/:a-zA-Z0-9]+$\"), \"doi\"].tolist()"
   ]
  },
  {
   "cell_type": "code",
   "execution_count": 6,
   "metadata": {},
   "outputs": [],
   "source": [
    "container = []\n",
    "for chunk in chunks(DOIs):\n",
    "    response = remote_call(dois=chunk, token=TOKEN)\n",
    "    data = process(response)\n",
    "    container.append(\n",
    "        pd.DataFrame(data)\n",
    "    )"
   ]
  },
  {
   "cell_type": "code",
   "execution_count": 7,
   "metadata": {},
   "outputs": [],
   "source": [
    "result = pd.concat(container, ignore_index=True)"
   ]
  },
  {
   "cell_type": "code",
   "execution_count": 8,
   "metadata": {},
   "outputs": [
    {
     "data": {
      "text/plain": [
       "(18393, 2)"
      ]
     },
     "execution_count": 8,
     "metadata": {},
     "output_type": "execute_result"
    }
   ],
   "source": [
    "result.shape"
   ]
  },
  {
   "cell_type": "code",
   "execution_count": 63,
   "metadata": {},
   "outputs": [
    {
     "data": {
      "text/plain": [
       "(15187, 5)"
      ]
     },
     "execution_count": 63,
     "metadata": {},
     "output_type": "execute_result"
    }
   ],
   "source": [
    "# with \"No data.\" removed\n",
    "result.loc[result[\"fields\"].ne(\"No data.\")].shape"
   ]
  },
  {
   "cell_type": "code",
   "execution_count": 46,
   "metadata": {},
   "outputs": [],
   "source": [
    "result[\"first_approach\"] = result[\"fields\"].str.contains(\"Political science|International relations|International security\", case=False).astype(int)\n",
    "result[\"second_approach\"] = result[\"fields\"].str.contains(\"International relations|International security\", case=False).astype(int)\n",
    "result[\"third_approach\"] = (\n",
    "    (result[\"fields\"].str.contains(\"Political science|International relations|International security\", case=False)) &  \n",
    "    (~result[\"fields\"].str.contains(\"criminal\", case=False))\n",
    ").astype(int)"
   ]
  },
  {
   "cell_type": "code",
   "execution_count": 49,
   "metadata": {},
   "outputs": [
    {
     "data": {
      "text/plain": [
       "2860"
      ]
     },
     "execution_count": 49,
     "metadata": {},
     "output_type": "execute_result"
    }
   ],
   "source": [
    "result[\"first_approach\"].sum()"
   ]
  },
  {
   "cell_type": "code",
   "execution_count": 51,
   "metadata": {},
   "outputs": [
    {
     "data": {
      "text/plain": [
       "0    0.811681\n",
       "1    0.188319\n",
       "Name: first_approach, dtype: float64"
      ]
     },
     "execution_count": 51,
     "metadata": {},
     "output_type": "execute_result"
    }
   ],
   "source": [
    "result.loc[result[\"fields\"].ne(\"No data.\")][\"first_approach\"].value_counts(normalize=True)"
   ]
  },
  {
   "cell_type": "code",
   "execution_count": 50,
   "metadata": {},
   "outputs": [
    {
     "data": {
      "text/plain": [
       "235"
      ]
     },
     "execution_count": 50,
     "metadata": {},
     "output_type": "execute_result"
    }
   ],
   "source": [
    "result[\"second_approach\"].sum()"
   ]
  },
  {
   "cell_type": "code",
   "execution_count": 52,
   "metadata": {},
   "outputs": [
    {
     "data": {
      "text/plain": [
       "0    0.984526\n",
       "1    0.015474\n",
       "Name: second_approach, dtype: float64"
      ]
     },
     "execution_count": 52,
     "metadata": {},
     "output_type": "execute_result"
    }
   ],
   "source": [
    "result.loc[result[\"fields\"].ne(\"No data.\")][\"second_approach\"].value_counts(normalize=True)"
   ]
  },
  {
   "cell_type": "code",
   "execution_count": 61,
   "metadata": {},
   "outputs": [
    {
     "data": {
      "text/plain": [
       "(15187, 5)"
      ]
     },
     "execution_count": 61,
     "metadata": {},
     "output_type": "execute_result"
    }
   ],
   "source": [
    "result.loc[result[\"fields\"].ne(\"No data.\")].shape"
   ]
  },
  {
   "cell_type": "code",
   "execution_count": 47,
   "metadata": {},
   "outputs": [
    {
     "data": {
      "text/plain": [
       "2645"
      ]
     },
     "execution_count": 47,
     "metadata": {},
     "output_type": "execute_result"
    }
   ],
   "source": [
    "result[\"third_approach\"].sum()"
   ]
  },
  {
   "cell_type": "code",
   "execution_count": 53,
   "metadata": {},
   "outputs": [
    {
     "data": {
      "text/plain": [
       "0    0.825838\n",
       "1    0.174162\n",
       "Name: third_approach, dtype: float64"
      ]
     },
     "execution_count": 53,
     "metadata": {},
     "output_type": "execute_result"
    }
   ],
   "source": [
    "result.loc[result[\"fields\"].ne(\"No data.\")][\"third_approach\"].value_counts(normalize=True)"
   ]
  },
  {
   "cell_type": "code",
   "execution_count": 13,
   "metadata": {},
   "outputs": [],
   "source": [
    "result.to_csv(\"../data/LENS-API-RESPONSE.csv\", index=False)"
   ]
  },
  {
   "cell_type": "code",
   "execution_count": 55,
   "metadata": {},
   "outputs": [],
   "source": [
    "merged = pd.merge(\n",
    "    df, result,\n",
    "    how=\"left\",\n",
    "    on=\"doi\"\n",
    ")"
   ]
  },
  {
   "cell_type": "code",
   "execution_count": 60,
   "metadata": {},
   "outputs": [],
   "source": [
    "merged.to_csv(\"../data/merged.csv\", index=False)"
   ]
  }
 ],
 "metadata": {
  "kernelspec": {
   "display_name": "Python 3",
   "language": "python",
   "name": "python3"
  },
  "language_info": {
   "codemirror_mode": {
    "name": "ipython",
    "version": 3
   },
   "file_extension": ".py",
   "mimetype": "text/x-python",
   "name": "python",
   "nbconvert_exporter": "python",
   "pygments_lexer": "ipython3",
   "version": "3.8.5"
  }
 },
 "nbformat": 4,
 "nbformat_minor": 4
}
