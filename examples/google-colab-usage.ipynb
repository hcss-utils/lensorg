{
 "cells": [
  {
   "cell_type": "code",
   "execution_count": 1,
   "metadata": {
    "colab": {
     "base_uri": "https://localhost:8080/"
    },
    "id": "RD4blX3hSKBO",
    "outputId": "b588168a-e21f-4da3-9c83-58284001fa2d"
   },
   "outputs": [
    {
     "name": "stdout",
     "output_type": "stream",
     "text": [
      "  Building wheel for lensorg (setup.py) ... \u001b[?25l\u001b[?25hdone\n"
     ]
    }
   ],
   "source": [
    "# !pip -q --no-cache-dir install git+https://github.com/hcss-utils/lensorg.git@refactoring \n",
    "!pip -q --no-cache-dir install git+https://github.com/hcss-utils/lensorg.git\n",
    "!pip -q --no-cache-dir install ratelimit python-dotenv"
   ]
  },
  {
   "cell_type": "code",
   "execution_count": 2,
   "metadata": {
    "colab": {
     "base_uri": "https://localhost:8080/"
    },
    "id": "ULH1x50VTQc4",
    "outputId": "6056e4a2-94bf-4aeb-a5ac-1679980b5219"
   },
   "outputs": [
    {
     "name": "stdout",
     "output_type": "stream",
     "text": [
      "Drive already mounted at /content/drive/; to attempt to forcibly remount, call drive.mount(\"/content/drive/\", force_remount=True).\n"
     ]
    }
   ],
   "source": [
    "from google.colab import drive\n",
    "drive.mount('/content/drive/')"
   ]
  },
  {
   "cell_type": "code",
   "execution_count": 3,
   "metadata": {
    "id": "gZ8zLch9S2rj"
   },
   "outputs": [],
   "source": [
    "import pandas as pd\n",
    "from lensorg import chunks, remote_call, process, token"
   ]
  },
  {
   "cell_type": "code",
   "execution_count": 4,
   "metadata": {
    "id": "QmDIipQvTx2S"
   },
   "outputs": [],
   "source": [
    "# if running from google colab/not using dotenv, paste token after 'or'\n",
    "token = token or \"\""
   ]
  },
  {
   "cell_type": "code",
   "execution_count": 5,
   "metadata": {
    "id": "E6VvA5o9T3iy"
   },
   "outputs": [],
   "source": [
    "# loading data\n",
    "df = pd.read_csv(\"/content/drive/MyDrive/RuBase/Bibliometrics/Deterrence/December 2020/Scite/deterrence-broad-scite.csv\")\n",
    "\n",
    "# selecting valid DOIs\n",
    "DOIs = df.loc[df[\"doi\"].str.contains(\"^10\\.\\d{4,9}/[-._;()/:a-zA-Z0-9]+$\"), \"doi\"].tolist()"
   ]
  },
  {
   "cell_type": "code",
   "execution_count": 6,
   "metadata": {
    "colab": {
     "base_uri": "https://localhost:8080/"
    },
    "id": "zPP-mE0BUz2d",
    "outputId": "fdb673c3-61f1-415d-d18f-697f39af924a"
   },
   "outputs": [
    {
     "data": {
      "text/plain": [
       "['10.1016/0304-405x(94)00823-j',\n",
       " '10.1017/s0033291714000129',\n",
       " '10.1126/science.1163732',\n",
       " '10.1046/j.1365-2125.2001.01306.x',\n",
       " '10.1017/cbo9780511897948']"
      ]
     },
     "execution_count": 6,
     "metadata": {
      "tags": []
     },
     "output_type": "execute_result"
    }
   ],
   "source": [
    "# first 5 DOIs\n",
    "DOIs[:5]"
   ]
  },
  {
   "cell_type": "code",
   "execution_count": 7,
   "metadata": {
    "colab": {
     "base_uri": "https://localhost:8080/"
    },
    "id": "EXT2b2jeU0pJ",
    "outputId": "4bf1ebcf-f33f-4644-df98-f8c076c91130"
   },
   "outputs": [
    {
     "name": "stdout",
     "output_type": "stream",
     "text": [
      "we have 18406 DOIs, but each request could only take 1000 DOIs\n"
     ]
    }
   ],
   "source": [
    "print(f\"we have {len(DOIs)} DOIs, but each request could only take 1000 DOIs\")"
   ]
  },
  {
   "cell_type": "code",
   "execution_count": 9,
   "metadata": {
    "id": "x5Oszc3pU4Js"
   },
   "outputs": [],
   "source": [
    "container = []\n",
    "# testing on 2_000 DOIs\n",
    "for chunk in chunks(DOIs[:2_000], n=999):\n",
    "    response = remote_call(dois=chunk, token=token)\n",
    "    data = process(response)\n",
    "    container.append(\n",
    "        pd.DataFrame(data)\n",
    "    )"
   ]
  },
  {
   "cell_type": "code",
   "execution_count": 10,
   "metadata": {
    "id": "BO5uABb1U6Wx"
   },
   "outputs": [],
   "source": [
    "result = pd.concat(container, ignore_index=True)"
   ]
  },
  {
   "cell_type": "code",
   "execution_count": 11,
   "metadata": {
    "colab": {
     "base_uri": "https://localhost:8080/"
    },
    "id": "E2wij82kU9_j",
    "outputId": "dfb6a5e0-07d8-4405-eb7c-49981fcac333"
   },
   "outputs": [
    {
     "data": {
      "text/plain": [
       "(1997, 2)"
      ]
     },
     "execution_count": 11,
     "metadata": {
      "tags": []
     },
     "output_type": "execute_result"
    }
   ],
   "source": [
    "result.shape"
   ]
  },
  {
   "cell_type": "code",
   "execution_count": 12,
   "metadata": {
    "colab": {
     "base_uri": "https://localhost:8080/",
     "height": 195
    },
    "id": "14cZPavKU-hz",
    "outputId": "3c305f85-0911-4459-9d78-8b827fbe157e"
   },
   "outputs": [
    {
     "data": {
      "text/html": [
       "<div>\n",
       "<style scoped>\n",
       "    .dataframe tbody tr th:only-of-type {\n",
       "        vertical-align: middle;\n",
       "    }\n",
       "\n",
       "    .dataframe tbody tr th {\n",
       "        vertical-align: top;\n",
       "    }\n",
       "\n",
       "    .dataframe thead th {\n",
       "        text-align: right;\n",
       "    }\n",
       "</style>\n",
       "<table border=\"1\" class=\"dataframe\">\n",
       "  <thead>\n",
       "    <tr style=\"text-align: right;\">\n",
       "      <th></th>\n",
       "      <th>doi</th>\n",
       "      <th>fields</th>\n",
       "    </tr>\n",
       "  </thead>\n",
       "  <tbody>\n",
       "    <tr>\n",
       "      <th>0</th>\n",
       "      <td>10.1007/s004420050815</td>\n",
       "      <td>Nutrient_Food choice_Adenostyles alliariae_Pet...</td>\n",
       "    </tr>\n",
       "    <tr>\n",
       "      <th>1</th>\n",
       "      <td>10.1111/j.1540-5915.2012.00361.x</td>\n",
       "      <td>Business_Marketing_Employee research_Organisat...</td>\n",
       "    </tr>\n",
       "    <tr>\n",
       "      <th>2</th>\n",
       "      <td>10.1046/j.1365-2125.1997.00616.x</td>\n",
       "      <td>Public health_Pediatrics_Alternative medicine_...</td>\n",
       "    </tr>\n",
       "    <tr>\n",
       "      <th>3</th>\n",
       "      <td>10.1016/j.socscimed.2008.12.031</td>\n",
       "      <td>Psychology_Health care_Internal audit_Internal...</td>\n",
       "    </tr>\n",
       "    <tr>\n",
       "      <th>4</th>\n",
       "      <td>10.1080/03235408.2013.858879</td>\n",
       "      <td>Horticulture_Lepidoptera genitalia_PEST analys...</td>\n",
       "    </tr>\n",
       "  </tbody>\n",
       "</table>\n",
       "</div>"
      ],
      "text/plain": [
       "                                doi                                             fields\n",
       "0             10.1007/s004420050815  Nutrient_Food choice_Adenostyles alliariae_Pet...\n",
       "1  10.1111/j.1540-5915.2012.00361.x  Business_Marketing_Employee research_Organisat...\n",
       "2  10.1046/j.1365-2125.1997.00616.x  Public health_Pediatrics_Alternative medicine_...\n",
       "3   10.1016/j.socscimed.2008.12.031  Psychology_Health care_Internal audit_Internal...\n",
       "4      10.1080/03235408.2013.858879  Horticulture_Lepidoptera genitalia_PEST analys..."
      ]
     },
     "execution_count": 12,
     "metadata": {
      "tags": []
     },
     "output_type": "execute_result"
    }
   ],
   "source": [
    "result.head()"
   ]
  }
 ],
 "metadata": {
  "colab": {
   "collapsed_sections": [],
   "name": "LENS-API.ipynb",
   "provenance": []
  },
  "kernelspec": {
   "display_name": "Python 3",
   "language": "python",
   "name": "python3"
  },
  "language_info": {
   "codemirror_mode": {
    "name": "ipython",
    "version": 3
   },
   "file_extension": ".py",
   "mimetype": "text/x-python",
   "name": "python",
   "nbconvert_exporter": "python",
   "pygments_lexer": "ipython3",
   "version": "3.8.5"
  }
 },
 "nbformat": 4,
 "nbformat_minor": 1
}
