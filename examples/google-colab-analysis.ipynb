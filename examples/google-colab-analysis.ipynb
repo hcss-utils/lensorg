{
 "cells": [
  {
   "cell_type": "markdown",
   "metadata": {
    "id": "eUSRPji9mIlE"
   },
   "source": [
    "# Scite_ + Lens\n",
    "This notebook consists of two parts (main sections): \n",
    "1. Downloading data from LENS API \n",
    "2. Analysis "
   ]
  },
  {
   "cell_type": "markdown",
   "metadata": {
    "id": "9_FZEnN9mTCj"
   },
   "source": [
    "## Fetching data from LENS API\n",
    "\n",
    "To make interaction with their API easier, I wrote, tested, and put all the code into a 'lensorg' package that you could install in the colab. \n",
    "This way, \n",
    "* you could avoid looking at the source code (but if you want, it's  open-sourced [here](https://github.com/hcss-utils/lensorg/blob/master/lensorg/__init__.py))\n",
    "* can't mess up the code yourself by accident \n",
    "* by installing from github, you could be sure it's always the latest version (if we update the source code, we don't have to change anything in the colab) "
   ]
  },
  {
   "cell_type": "markdown",
   "metadata": {
    "id": "nqSYVuxxoNcb"
   },
   "source": [
    "### Preparations\n",
    "* Install lensorg package\n",
    "* Install dependecies \n",
    "* Get LENS API token"
   ]
  },
  {
   "cell_type": "code",
   "execution_count": null,
   "metadata": {
    "colab": {
     "base_uri": "https://localhost:8080/"
    },
    "id": "RD4blX3hSKBO",
    "outputId": "8c12f929-d7f1-45c0-88a6-6f5a61a5c511"
   },
   "outputs": [
    {
     "name": "stdout",
     "output_type": "stream",
     "text": [
      "  Building wheel for ratelimit (setup.py) ... \u001b[?25l\u001b[?25hdone\n",
      "  Building wheel for lensorg (setup.py) ... \u001b[?25l\u001b[?25hdone\n"
     ]
    }
   ],
   "source": [
    "# installing dependencies 'leonsorg' relies on\n",
    "!pip -q --no-cache-dir install ratelimit python-dotenv\n",
    "# installing 'lenosorg' from git\n",
    "!pip -q --no-cache-dir install git+https://github.com/hcss-utils/lensorg.git"
   ]
  },
  {
   "cell_type": "code",
   "execution_count": null,
   "metadata": {
    "colab": {
     "base_uri": "https://localhost:8080/"
    },
    "id": "ULH1x50VTQc4",
    "outputId": "f648e5b6-bea9-4088-9324-9df4104758b4"
   },
   "outputs": [
    {
     "name": "stdout",
     "output_type": "stream",
     "text": [
      "Mounted at /content/drive/\n"
     ]
    }
   ],
   "source": [
    "# mounting to google drive to access data\n",
    "from google.colab import drive\n",
    "drive.mount('/content/drive/')"
   ]
  },
  {
   "cell_type": "code",
   "execution_count": null,
   "metadata": {
    "id": "gZ8zLch9S2rj"
   },
   "outputs": [],
   "source": [
    "import pandas as pd\n",
    "from lensorg import chunks, remote_call, process, token"
   ]
  },
  {
   "cell_type": "code",
   "execution_count": null,
   "metadata": {
    "id": "QmDIipQvTx2S"
   },
   "outputs": [],
   "source": [
    "# if running from google colab, paste token after 'or'\n",
    "\n",
    "# to get a token, go to API & Data section on the Lens site\n",
    "# then press the button 'Create a token' \n",
    "# after creating a token, copy and paste it\n",
    "\n",
    "token = token or \"\""
   ]
  },
  {
   "cell_type": "markdown",
   "metadata": {
    "id": "a-uQwm8dnsRU"
   },
   "source": [
    "### Loading *scite_* data\n",
    "\n",
    "The idea behind combining *scite_* and *LENS* was to use *LENS* to identify 'field of study' for *scite_* publications. \n",
    "\n",
    "So the first step is to read csv file with *scite_* data. \n",
    "\n",
    "---\n",
    "\n",
    "*Note*: you need to have access to 'RuBase' folder!"
   ]
  },
  {
   "cell_type": "code",
   "execution_count": null,
   "metadata": {
    "id": "E6VvA5o9T3iy"
   },
   "outputs": [],
   "source": [
    "# loading scite_ data with DOIs\n",
    "df = pd.read_csv(\"/content/drive/MyDrive/RuBase/Bibliometrics/Deterrence/December 2020/Scite/deterrence-broad-scite.csv\")\n",
    "\n",
    "# selecting valid DOIs\n",
    "DOIs = df.loc[df[\"doi\"].str.contains(\"^10\\.\\d{4,9}/[-._;()/:a-zA-Z0-9]+$\"), \"doi\"].tolist()"
   ]
  },
  {
   "cell_type": "code",
   "execution_count": null,
   "metadata": {
    "colab": {
     "base_uri": "https://localhost:8080/",
     "height": 281
    },
    "id": "gJbf-wYUrT1s",
    "outputId": "3b2a28b2-4f50-4194-f1ea-1d05c301f9df"
   },
   "outputs": [
    {
     "data": {
      "text/html": [
       "<div>\n",
       "<style scoped>\n",
       "    .dataframe tbody tr th:only-of-type {\n",
       "        vertical-align: middle;\n",
       "    }\n",
       "\n",
       "    .dataframe tbody tr th {\n",
       "        vertical-align: top;\n",
       "    }\n",
       "\n",
       "    .dataframe thead th {\n",
       "        text-align: right;\n",
       "    }\n",
       "</style>\n",
       "<table border=\"1\" class=\"dataframe\">\n",
       "  <thead>\n",
       "    <tr style=\"text-align: right;\">\n",
       "      <th></th>\n",
       "      <th>doi</th>\n",
       "      <th>title</th>\n",
       "      <th>pmid</th>\n",
       "      <th>authors</th>\n",
       "      <th>year</th>\n",
       "      <th>issns</th>\n",
       "      <th>supporting_cites</th>\n",
       "      <th>disputing_cites</th>\n",
       "      <th>mentioning_cites</th>\n",
       "      <th>total_cites</th>\n",
       "      <th>scite_report_link</th>\n",
       "    </tr>\n",
       "  </thead>\n",
       "  <tbody>\n",
       "    <tr>\n",
       "      <th>0</th>\n",
       "      <td>10.1016/0304-405x(94)00823-j</td>\n",
       "      <td>Poison or placebo? Evidence on the deterrence ...</td>\n",
       "      <td>NaN</td>\n",
       "      <td>['Robert Comment', 'G.William Schwert']</td>\n",
       "      <td>1995.0</td>\n",
       "      <td>['0304-405X']</td>\n",
       "      <td>45.0</td>\n",
       "      <td>7.0</td>\n",
       "      <td>339.0</td>\n",
       "      <td>391.0</td>\n",
       "      <td>https://scite.ai/reports/poison-or-placebo-evi...</td>\n",
       "    </tr>\n",
       "    <tr>\n",
       "      <th>1</th>\n",
       "      <td>10.1017/s0033291714000129</td>\n",
       "      <td>What is the impact of mental health-related st...</td>\n",
       "      <td>NaN</td>\n",
       "      <td>['S. Clement', 'O. Schauman', 'T. Graham', 'F....</td>\n",
       "      <td>2014.0</td>\n",
       "      <td>['0033-2917', '1469-8978']</td>\n",
       "      <td>44.0</td>\n",
       "      <td>2.0</td>\n",
       "      <td>712.0</td>\n",
       "      <td>758.0</td>\n",
       "      <td>https://scite.ai/reports/what-is-the-impact-of...</td>\n",
       "    </tr>\n",
       "    <tr>\n",
       "      <th>2</th>\n",
       "      <td>10.1126/science.1163732</td>\n",
       "      <td>A Glucosinolate Metabolism Pathway in Living P...</td>\n",
       "      <td>NaN</td>\n",
       "      <td>['P. Bednarek', 'M. Pislewska-Bednarek', 'A. S...</td>\n",
       "      <td>2009.0</td>\n",
       "      <td>['0036-8075', '1095-9203']</td>\n",
       "      <td>38.0</td>\n",
       "      <td>0.0</td>\n",
       "      <td>831.0</td>\n",
       "      <td>869.0</td>\n",
       "      <td>https://scite.ai/reports/a-glucosinolate-metab...</td>\n",
       "    </tr>\n",
       "    <tr>\n",
       "      <th>3</th>\n",
       "      <td>10.1046/j.1365-2125.2001.01306.x</td>\n",
       "      <td>Attitudes and knowledge of hospital pharmacist...</td>\n",
       "      <td>11167664.0</td>\n",
       "      <td>['Christopher F. Green', 'David R. Mottram', '...</td>\n",
       "      <td>2001.0</td>\n",
       "      <td>['0306-5251']</td>\n",
       "      <td>37.0</td>\n",
       "      <td>2.0</td>\n",
       "      <td>117.0</td>\n",
       "      <td>156.0</td>\n",
       "      <td>https://scite.ai/reports/attitudes-and-knowled...</td>\n",
       "    </tr>\n",
       "    <tr>\n",
       "      <th>4</th>\n",
       "      <td>10.1017/cbo9780511897948</td>\n",
       "      <td>The Neural Crest</td>\n",
       "      <td>NaN</td>\n",
       "      <td>['Nicole Le Douarin', 'Chaya Kalcheim']</td>\n",
       "      <td>1999.0</td>\n",
       "      <td>[]</td>\n",
       "      <td>37.0</td>\n",
       "      <td>0.0</td>\n",
       "      <td>1472.0</td>\n",
       "      <td>1509.0</td>\n",
       "      <td>https://scite.ai/reports/the-neural-crest-xYYxGD</td>\n",
       "    </tr>\n",
       "  </tbody>\n",
       "</table>\n",
       "</div>"
      ],
      "text/plain": [
       "                                doi  ...                                  scite_report_link\n",
       "0      10.1016/0304-405x(94)00823-j  ...  https://scite.ai/reports/poison-or-placebo-evi...\n",
       "1         10.1017/s0033291714000129  ...  https://scite.ai/reports/what-is-the-impact-of...\n",
       "2           10.1126/science.1163732  ...  https://scite.ai/reports/a-glucosinolate-metab...\n",
       "3  10.1046/j.1365-2125.2001.01306.x  ...  https://scite.ai/reports/attitudes-and-knowled...\n",
       "4          10.1017/cbo9780511897948  ...   https://scite.ai/reports/the-neural-crest-xYYxGD\n",
       "\n",
       "[5 rows x 11 columns]"
      ]
     },
     "execution_count": 6,
     "metadata": {
      "tags": []
     },
     "output_type": "execute_result"
    }
   ],
   "source": [
    "# original scite_ table from which we're taking DOIs\n",
    "df.head()"
   ]
  },
  {
   "cell_type": "code",
   "execution_count": null,
   "metadata": {
    "colab": {
     "base_uri": "https://localhost:8080/"
    },
    "id": "zPP-mE0BUz2d",
    "outputId": "cab92f7e-608d-4fdf-a8a7-406e9809e6fc"
   },
   "outputs": [
    {
     "data": {
      "text/plain": [
       "['10.1016/0304-405x(94)00823-j',\n",
       " '10.1017/s0033291714000129',\n",
       " '10.1126/science.1163732',\n",
       " '10.1046/j.1365-2125.2001.01306.x',\n",
       " '10.1017/cbo9780511897948']"
      ]
     },
     "execution_count": 7,
     "metadata": {
      "tags": []
     },
     "output_type": "execute_result"
    }
   ],
   "source": [
    "# first 5 DOIs\n",
    "DOIs[:5]"
   ]
  },
  {
   "cell_type": "markdown",
   "metadata": {
    "id": "CyEcTLfqpLiZ"
   },
   "source": [
    "In above cells I defined and printed a list of DOIs. \n",
    "* at this stage, we're only interested in DOIs that we need to query, so it's okay to ignore other columns for now\n",
    "* we're also interested in making our requests as efficient as possible (because we have a limit of 5 000 requests per month), so we don't want to query incorrect DOIs - *that's why we're selecting only valid DOIs using CrossRef's regex approach.* \n",
    "\n",
    "---\n",
    "*Note*: what regex essentially checks is whether the DOI starts with '10', have '.' followed by 4 to 9 numbers afterwards, followed by '/' and any text after that, e.g. *10.1017/s0033291714000129*"
   ]
  },
  {
   "cell_type": "code",
   "execution_count": null,
   "metadata": {
    "colab": {
     "base_uri": "https://localhost:8080/"
    },
    "id": "EXT2b2jeU0pJ",
    "outputId": "3d1a2b8b-62f4-40ab-9500-9427a5998b70"
   },
   "outputs": [
    {
     "name": "stdout",
     "output_type": "stream",
     "text": [
      "we have 18406 DOIs, but each request could only take 1000 DOIs\n",
      "this is why we're splitting a list of DOIs by 999 items, resulting in 18 requests\n"
     ]
    }
   ],
   "source": [
    "print(f\"we have {len(DOIs)} DOIs, but each request could only take 1000 DOIs\")\n",
    "print(f\"this is why we're splitting a list of DOIs by 999 items, resulting in {len(DOIs) // 999} requests\")"
   ]
  },
  {
   "cell_type": "markdown",
   "metadata": {
    "id": "lLYp9PHJTkcS"
   },
   "source": [
    "If you're trying to reproduce the analysis, go straight to 'Analysis' section, as the code below downloads and saves data to GDrive (which I have already done so you don't have to re-download everything and could just skip). "
   ]
  },
  {
   "cell_type": "code",
   "execution_count": null,
   "metadata": {
    "id": "x5Oszc3pU4Js"
   },
   "outputs": [],
   "source": [
    "## uncomment this cell if you actually want to download everything!\n",
    "## by removing '#' at the beginning of the line\n",
    "\n",
    "# container = []\n",
    "# for chunk in chunks(DOIs, n=999):\n",
    "#     response = remote_call(dois=chunk, token=token)\n",
    "#     data = process(response)\n",
    "#     container.append(\n",
    "#         pd.DataFrame(data)\n",
    "#     )\n",
    "\n",
    "# result = pd.concat(container, ignore_index=True)"
   ]
  },
  {
   "cell_type": "markdown",
   "metadata": {
    "id": "HZnamUOhUDPf"
   },
   "source": [
    "running the code below without downloading data (running cell above before) will throw an error, so either go straight to 'Analysis' section or run all of the cells, including uncommented cell above). "
   ]
  },
  {
   "cell_type": "code",
   "execution_count": null,
   "metadata": {
    "colab": {
     "base_uri": "https://localhost:8080/"
    },
    "id": "E2wij82kU9_j",
    "outputId": "a1d50203-4c9f-42bd-f82b-baca6ff4b9d3"
   },
   "outputs": [
    {
     "data": {
      "text/plain": [
       "(18393, 2)"
      ]
     },
     "execution_count": 12,
     "metadata": {
      "tags": []
     },
     "output_type": "execute_result"
    }
   ],
   "source": [
    "result.shape"
   ]
  },
  {
   "cell_type": "code",
   "execution_count": null,
   "metadata": {
    "colab": {
     "base_uri": "https://localhost:8080/",
     "height": 204
    },
    "id": "14cZPavKU-hz",
    "outputId": "3dcf895c-2327-40d1-8b50-bf8260624839"
   },
   "outputs": [
    {
     "data": {
      "text/html": [
       "<div>\n",
       "<style scoped>\n",
       "    .dataframe tbody tr th:only-of-type {\n",
       "        vertical-align: middle;\n",
       "    }\n",
       "\n",
       "    .dataframe tbody tr th {\n",
       "        vertical-align: top;\n",
       "    }\n",
       "\n",
       "    .dataframe thead th {\n",
       "        text-align: right;\n",
       "    }\n",
       "</style>\n",
       "<table border=\"1\" class=\"dataframe\">\n",
       "  <thead>\n",
       "    <tr style=\"text-align: right;\">\n",
       "      <th></th>\n",
       "      <th>doi</th>\n",
       "      <th>fields</th>\n",
       "    </tr>\n",
       "  </thead>\n",
       "  <tbody>\n",
       "    <tr>\n",
       "      <th>0</th>\n",
       "      <td>10.1007/s004420050815</td>\n",
       "      <td>Nutrient_Food choice_Adenostyles alliariae_Pet...</td>\n",
       "    </tr>\n",
       "    <tr>\n",
       "      <th>1</th>\n",
       "      <td>10.1111/j.1540-5915.2012.00361.x</td>\n",
       "      <td>Business_Marketing_Employee research_Organisat...</td>\n",
       "    </tr>\n",
       "    <tr>\n",
       "      <th>2</th>\n",
       "      <td>10.1046/j.1365-2125.1997.00616.x</td>\n",
       "      <td>Public health_Pediatrics_Alternative medicine_...</td>\n",
       "    </tr>\n",
       "    <tr>\n",
       "      <th>3</th>\n",
       "      <td>10.1016/j.socscimed.2008.12.031</td>\n",
       "      <td>Psychology_Health care_Internal audit_Internal...</td>\n",
       "    </tr>\n",
       "    <tr>\n",
       "      <th>4</th>\n",
       "      <td>10.1080/03235408.2013.858879</td>\n",
       "      <td>Horticulture_Lepidoptera genitalia_PEST analys...</td>\n",
       "    </tr>\n",
       "  </tbody>\n",
       "</table>\n",
       "</div>"
      ],
      "text/plain": [
       "                                doi                                             fields\n",
       "0             10.1007/s004420050815  Nutrient_Food choice_Adenostyles alliariae_Pet...\n",
       "1  10.1111/j.1540-5915.2012.00361.x  Business_Marketing_Employee research_Organisat...\n",
       "2  10.1046/j.1365-2125.1997.00616.x  Public health_Pediatrics_Alternative medicine_...\n",
       "3   10.1016/j.socscimed.2008.12.031  Psychology_Health care_Internal audit_Internal...\n",
       "4      10.1080/03235408.2013.858879  Horticulture_Lepidoptera genitalia_PEST analys..."
      ]
     },
     "execution_count": 13,
     "metadata": {
      "tags": []
     },
     "output_type": "execute_result"
    }
   ],
   "source": [
    "result.head()"
   ]
  },
  {
   "cell_type": "markdown",
   "metadata": {
    "id": "5NJfGE6ss6MY"
   },
   "source": [
    "### Saving LENS response\n",
    "To avoid re-downloading data once again, we'll save the result to our GDrive\n",
    "\n",
    "1. Save raw response - the 'result' table with only two columns that you see above\n",
    "2. Save joined dataset - we join the 'result' table to our original *scite_* table"
   ]
  },
  {
   "cell_type": "code",
   "execution_count": null,
   "metadata": {
    "id": "7SwkHKRyt-Gs"
   },
   "outputs": [],
   "source": [
    "joined_dataset = pd.merge(\n",
    "    df, result,\n",
    "    how=\"left\",\n",
    "    on=\"doi\"\n",
    ")"
   ]
  },
  {
   "cell_type": "code",
   "execution_count": null,
   "metadata": {
    "colab": {
     "base_uri": "https://localhost:8080/"
    },
    "id": "HmN2vsenuEZx",
    "outputId": "b9911964-24c3-47ce-d502-32020d1d303f"
   },
   "outputs": [
    {
     "name": "stdout",
     "output_type": "stream",
     "text": [
      "Joined dataset has 18468 rows, 12 columns\n"
     ]
    }
   ],
   "source": [
    "print(f\"Joined dataset has {joined_dataset.shape[0]} rows, {joined_dataset.shape[1]} columns\")"
   ]
  },
  {
   "cell_type": "code",
   "execution_count": null,
   "metadata": {
    "colab": {
     "base_uri": "https://localhost:8080/",
     "height": 564
    },
    "id": "hOmSmpabuQvI",
    "outputId": "a468f3cc-ed00-45e5-a478-43df535490ac"
   },
   "outputs": [
    {
     "data": {
      "text/html": [
       "<div>\n",
       "<style scoped>\n",
       "    .dataframe tbody tr th:only-of-type {\n",
       "        vertical-align: middle;\n",
       "    }\n",
       "\n",
       "    .dataframe tbody tr th {\n",
       "        vertical-align: top;\n",
       "    }\n",
       "\n",
       "    .dataframe thead th {\n",
       "        text-align: right;\n",
       "    }\n",
       "</style>\n",
       "<table border=\"1\" class=\"dataframe\">\n",
       "  <thead>\n",
       "    <tr style=\"text-align: right;\">\n",
       "      <th></th>\n",
       "      <th>doi</th>\n",
       "      <th>title</th>\n",
       "      <th>pmid</th>\n",
       "      <th>authors</th>\n",
       "      <th>year</th>\n",
       "      <th>issns</th>\n",
       "      <th>supporting_cites</th>\n",
       "      <th>disputing_cites</th>\n",
       "      <th>mentioning_cites</th>\n",
       "      <th>total_cites</th>\n",
       "      <th>scite_report_link</th>\n",
       "      <th>fields</th>\n",
       "    </tr>\n",
       "  </thead>\n",
       "  <tbody>\n",
       "    <tr>\n",
       "      <th>0</th>\n",
       "      <td>10.1016/0304-405x(94)00823-j</td>\n",
       "      <td>Poison or placebo? Evidence on the deterrence ...</td>\n",
       "      <td>NaN</td>\n",
       "      <td>['Robert Comment', 'G.William Schwert']</td>\n",
       "      <td>1995.0</td>\n",
       "      <td>['0304-405X']</td>\n",
       "      <td>45.0</td>\n",
       "      <td>7.0</td>\n",
       "      <td>339.0</td>\n",
       "      <td>391.0</td>\n",
       "      <td>https://scite.ai/reports/poison-or-placebo-evi...</td>\n",
       "      <td>Shareholder_Event study_Business_Market for co...</td>\n",
       "    </tr>\n",
       "    <tr>\n",
       "      <th>1</th>\n",
       "      <td>10.1017/s0033291714000129</td>\n",
       "      <td>What is the impact of mental health-related st...</td>\n",
       "      <td>NaN</td>\n",
       "      <td>['S. Clement', 'O. Schauman', 'T. Graham', 'F....</td>\n",
       "      <td>2014.0</td>\n",
       "      <td>['0033-2917', '1469-8978']</td>\n",
       "      <td>44.0</td>\n",
       "      <td>2.0</td>\n",
       "      <td>712.0</td>\n",
       "      <td>758.0</td>\n",
       "      <td>https://scite.ai/reports/what-is-the-impact-of...</td>\n",
       "      <td>Psychiatry_Mental health_Ethnic group_Stigma (...</td>\n",
       "    </tr>\n",
       "    <tr>\n",
       "      <th>2</th>\n",
       "      <td>10.1126/science.1163732</td>\n",
       "      <td>A Glucosinolate Metabolism Pathway in Living P...</td>\n",
       "      <td>NaN</td>\n",
       "      <td>['P. Bednarek', 'M. Pislewska-Bednarek', 'A. S...</td>\n",
       "      <td>2009.0</td>\n",
       "      <td>['0036-8075', '1095-9203']</td>\n",
       "      <td>38.0</td>\n",
       "      <td>0.0</td>\n",
       "      <td>831.0</td>\n",
       "      <td>869.0</td>\n",
       "      <td>https://scite.ai/reports/a-glucosinolate-metab...</td>\n",
       "      <td>Gene_Myrosinase_Plant cell_Enzyme_Metabolic pa...</td>\n",
       "    </tr>\n",
       "    <tr>\n",
       "      <th>3</th>\n",
       "      <td>10.1046/j.1365-2125.2001.01306.x</td>\n",
       "      <td>Attitudes and knowledge of hospital pharmacist...</td>\n",
       "      <td>11167664.0</td>\n",
       "      <td>['Christopher F. Green', 'David R. Mottram', '...</td>\n",
       "      <td>2001.0</td>\n",
       "      <td>['0306-5251']</td>\n",
       "      <td>37.0</td>\n",
       "      <td>2.0</td>\n",
       "      <td>117.0</td>\n",
       "      <td>156.0</td>\n",
       "      <td>https://scite.ai/reports/attitudes-and-knowled...</td>\n",
       "      <td>Epidemiology_Public health_Pediatrics_Hospital...</td>\n",
       "    </tr>\n",
       "    <tr>\n",
       "      <th>4</th>\n",
       "      <td>10.1017/cbo9780511897948</td>\n",
       "      <td>The Neural Crest</td>\n",
       "      <td>NaN</td>\n",
       "      <td>['Nicole Le Douarin', 'Chaya Kalcheim']</td>\n",
       "      <td>1999.0</td>\n",
       "      <td>[]</td>\n",
       "      <td>37.0</td>\n",
       "      <td>0.0</td>\n",
       "      <td>1472.0</td>\n",
       "      <td>1509.0</td>\n",
       "      <td>https://scite.ai/reports/the-neural-crest-xYYxGD</td>\n",
       "      <td>Neural fold_Neural crest_Neuroscience_Neural p...</td>\n",
       "    </tr>\n",
       "  </tbody>\n",
       "</table>\n",
       "</div>"
      ],
      "text/plain": [
       "                                doi  ...                                             fields\n",
       "0      10.1016/0304-405x(94)00823-j  ...  Shareholder_Event study_Business_Market for co...\n",
       "1         10.1017/s0033291714000129  ...  Psychiatry_Mental health_Ethnic group_Stigma (...\n",
       "2           10.1126/science.1163732  ...  Gene_Myrosinase_Plant cell_Enzyme_Metabolic pa...\n",
       "3  10.1046/j.1365-2125.2001.01306.x  ...  Epidemiology_Public health_Pediatrics_Hospital...\n",
       "4          10.1017/cbo9780511897948  ...  Neural fold_Neural crest_Neuroscience_Neural p...\n",
       "\n",
       "[5 rows x 12 columns]"
      ]
     },
     "execution_count": 17,
     "metadata": {
      "tags": []
     },
     "output_type": "execute_result"
    }
   ],
   "source": [
    "# note that we now have 'fields' column as the last column of the dataset \n",
    "joined_dataset.head()"
   ]
  },
  {
   "cell_type": "code",
   "execution_count": null,
   "metadata": {
    "id": "LHXZyGVTukCa"
   },
   "outputs": [],
   "source": [
    "# save raw response table\n",
    "result.to_csv(\"/content/drive/MyDrive/RuBase/Bibliometrics/Deterrence/December 2020/Scite/lens-raw-response.csv\", index=False)\n",
    "# save joined dataset table\n",
    "joined_dataset.to_csv(\"/content/drive/MyDrive/RuBase/Bibliometrics/Deterrence/December 2020/Scite/scite_lens_joined.csv\", index=False)"
   ]
  },
  {
   "cell_type": "markdown",
   "metadata": {
    "id": "UNMNBE0GoDsB"
   },
   "source": [
    "## Analysis\n"
   ]
  },
  {
   "cell_type": "code",
   "execution_count": null,
   "metadata": {
    "colab": {
     "base_uri": "https://localhost:8080/"
    },
    "id": "-WuW7UKxw1tY",
    "outputId": "3cad86a8-1cd4-4d66-cdc8-20a7d4b9e81f"
   },
   "outputs": [
    {
     "data": {
      "text/plain": [
       "(18468, 12)"
      ]
     },
     "execution_count": 9,
     "metadata": {
      "tags": []
     },
     "output_type": "execute_result"
    }
   ],
   "source": [
    "joined_dataset = pd.read_csv(\"/content/drive/MyDrive/RuBase/Bibliometrics/Deterrence/December 2020/Scite/scite_lens_joined.csv\")\n",
    "joined_dataset.shape"
   ]
  },
  {
   "cell_type": "markdown",
   "metadata": {
    "id": "tiKTpMhQs0Hp"
   },
   "source": [
    "### Which publications are relevant to our research, based on the 'fields of study' info?\n",
    "\n",
    "We came up with a couple of approahces to check if publication is relevant to our field. \n",
    "\n",
    "*If 'fields' column contains the following keywords, the publication is relevant according to one of the approaches:*\n",
    "\n",
    "1. Political science or International relations or International security\n",
    "2. International relations or International security\n",
    "3. ((Political science or International relations or International security) AND NOT Criminal)\n",
    "4. Political science"
   ]
  },
  {
   "cell_type": "markdown",
   "metadata": {
    "id": "2xUbI5Cj0EwT"
   },
   "source": [
    "#### Defining relevant publications"
   ]
  },
  {
   "cell_type": "code",
   "execution_count": null,
   "metadata": {
    "id": "slOWgGMFyTq7"
   },
   "outputs": [],
   "source": [
    "# the same patterns but as a python equivalent\n",
    "patterns = {\n",
    "    \"first_approach\": \"Political science|International relations|International security\",\n",
    "    \"second_approach\": \"International relations|International security\",\n",
    "    \"third_approach\": [\n",
    "        \"Political science|International relations|International security\",\n",
    "        \"criminal\"\n",
    "    ],\n",
    "    \"forth_approach\": \"political science\"\n",
    "}"
   ]
  },
  {
   "cell_type": "code",
   "execution_count": null,
   "metadata": {
    "id": "G-YN0DfSyHKM"
   },
   "outputs": [],
   "source": [
    "# actually checking if 'fields' contains patterns we defined above\n",
    "joined_dataset[\"first_approach\"] = joined_dataset[\"fields\"].str.contains(patterns.get(\"first_approach\"), case=False, na=False).astype(int)\n",
    "joined_dataset[\"second_approach\"] = joined_dataset[\"fields\"].str.contains(patterns.get(\"second_approach\"), case=False, na=False).astype(int)\n",
    "joined_dataset[\"third_approach\"] = (\n",
    "    (joined_dataset[\"fields\"].str.contains(patterns.get(\"third_approach\")[0], case=False, na=False)) &\n",
    "    (~joined_dataset[\"fields\"].str.contains(patterns.get(\"third_approach\")[1], case=False, na=False))\n",
    ").astype(int)\n",
    "joined_dataset[\"forth_approach\"] = joined_dataset[\"fields\"].str.contains(patterns.get(\"forth_approach\"), case=False, na=False).astype(int)"
   ]
  },
  {
   "cell_type": "markdown",
   "metadata": {
    "id": "RZeE2WMtzoTX"
   },
   "source": [
    "The code above results in 4 additional columns (which you can see below) consisting of '0's and '1's\n",
    "* 0 means the publication is irrelevant \n",
    "* 1 means the publication is relevant"
   ]
  },
  {
   "cell_type": "code",
   "execution_count": null,
   "metadata": {
    "colab": {
     "base_uri": "https://localhost:8080/",
     "height": 406
    },
    "id": "pw2xfdLBzajF",
    "outputId": "d3f136fe-8e72-4625-b308-5eea3d1af2c2"
   },
   "outputs": [
    {
     "data": {
      "text/html": [
       "<div>\n",
       "<style scoped>\n",
       "    .dataframe tbody tr th:only-of-type {\n",
       "        vertical-align: middle;\n",
       "    }\n",
       "\n",
       "    .dataframe tbody tr th {\n",
       "        vertical-align: top;\n",
       "    }\n",
       "\n",
       "    .dataframe thead th {\n",
       "        text-align: right;\n",
       "    }\n",
       "</style>\n",
       "<table border=\"1\" class=\"dataframe\">\n",
       "  <thead>\n",
       "    <tr style=\"text-align: right;\">\n",
       "      <th></th>\n",
       "      <th>doi</th>\n",
       "      <th>first_approach</th>\n",
       "      <th>second_approach</th>\n",
       "      <th>third_approach</th>\n",
       "      <th>forth_approach</th>\n",
       "    </tr>\n",
       "  </thead>\n",
       "  <tbody>\n",
       "    <tr>\n",
       "      <th>0</th>\n",
       "      <td>10.1016/0304-405x(94)00823-j</td>\n",
       "      <td>0</td>\n",
       "      <td>0</td>\n",
       "      <td>0</td>\n",
       "      <td>0</td>\n",
       "    </tr>\n",
       "    <tr>\n",
       "      <th>1</th>\n",
       "      <td>10.1017/s0033291714000129</td>\n",
       "      <td>0</td>\n",
       "      <td>0</td>\n",
       "      <td>0</td>\n",
       "      <td>0</td>\n",
       "    </tr>\n",
       "    <tr>\n",
       "      <th>2</th>\n",
       "      <td>10.1126/science.1163732</td>\n",
       "      <td>0</td>\n",
       "      <td>0</td>\n",
       "      <td>0</td>\n",
       "      <td>0</td>\n",
       "    </tr>\n",
       "    <tr>\n",
       "      <th>3</th>\n",
       "      <td>10.1046/j.1365-2125.2001.01306.x</td>\n",
       "      <td>0</td>\n",
       "      <td>0</td>\n",
       "      <td>0</td>\n",
       "      <td>0</td>\n",
       "    </tr>\n",
       "    <tr>\n",
       "      <th>4</th>\n",
       "      <td>10.1017/cbo9780511897948</td>\n",
       "      <td>0</td>\n",
       "      <td>0</td>\n",
       "      <td>0</td>\n",
       "      <td>0</td>\n",
       "    </tr>\n",
       "    <tr>\n",
       "      <th>...</th>\n",
       "      <td>...</td>\n",
       "      <td>...</td>\n",
       "      <td>...</td>\n",
       "      <td>...</td>\n",
       "      <td>...</td>\n",
       "    </tr>\n",
       "    <tr>\n",
       "      <th>18463</th>\n",
       "      <td>10.1016/j.cropro.2020.105351</td>\n",
       "      <td>0</td>\n",
       "      <td>0</td>\n",
       "      <td>0</td>\n",
       "      <td>0</td>\n",
       "    </tr>\n",
       "    <tr>\n",
       "      <th>18464</th>\n",
       "      <td>10.4018/978-1-7998-3476-2.ch009</td>\n",
       "      <td>0</td>\n",
       "      <td>0</td>\n",
       "      <td>0</td>\n",
       "      <td>0</td>\n",
       "    </tr>\n",
       "    <tr>\n",
       "      <th>18465</th>\n",
       "      <td>10.4018/978-1-7998-6618-3.ch021</td>\n",
       "      <td>0</td>\n",
       "      <td>0</td>\n",
       "      <td>0</td>\n",
       "      <td>0</td>\n",
       "    </tr>\n",
       "    <tr>\n",
       "      <th>18466</th>\n",
       "      <td>10.1016/j.aspen.2020.10.002</td>\n",
       "      <td>0</td>\n",
       "      <td>0</td>\n",
       "      <td>0</td>\n",
       "      <td>0</td>\n",
       "    </tr>\n",
       "    <tr>\n",
       "      <th>18467</th>\n",
       "      <td>\u001a</td>\n",
       "      <td>0</td>\n",
       "      <td>0</td>\n",
       "      <td>0</td>\n",
       "      <td>0</td>\n",
       "    </tr>\n",
       "  </tbody>\n",
       "</table>\n",
       "<p>18468 rows × 5 columns</p>\n",
       "</div>"
      ],
      "text/plain": [
       "                                    doi  ...  forth_approach\n",
       "0          10.1016/0304-405x(94)00823-j  ...               0\n",
       "1             10.1017/s0033291714000129  ...               0\n",
       "2               10.1126/science.1163732  ...               0\n",
       "3      10.1046/j.1365-2125.2001.01306.x  ...               0\n",
       "4              10.1017/cbo9780511897948  ...               0\n",
       "...                                 ...  ...             ...\n",
       "18463      10.1016/j.cropro.2020.105351  ...               0\n",
       "18464   10.4018/978-1-7998-3476-2.ch009  ...               0\n",
       "18465   10.4018/978-1-7998-6618-3.ch021  ...               0\n",
       "18466       10.1016/j.aspen.2020.10.002  ...               0\n",
       "18467                                 \u001a  ...               0\n",
       "\n",
       "[18468 rows x 5 columns]"
      ]
     },
     "execution_count": 12,
     "metadata": {
      "tags": []
     },
     "output_type": "execute_result"
    }
   ],
   "source": [
    "joined_dataset.loc[:, joined_dataset.columns.str.contains(\"doi|approach\")]"
   ]
  },
  {
   "cell_type": "markdown",
   "metadata": {
    "id": "1kVkF3LH0yCq"
   },
   "source": [
    "To make it more clear, *each column represents a different approach.* \n",
    "\n",
    "In the table *below* you could see that all publications are relevant according to *first, second, and third approaches* at the same time, but only one publication - id **1116** - is also relevant according to *forth approach*. \n",
    "\n",
    "So the takeaway is that the publication might be relevant based on one approach, but irrelevant according to others."
   ]
  },
  {
   "cell_type": "code",
   "execution_count": null,
   "metadata": {
    "colab": {
     "base_uri": "https://localhost:8080/",
     "height": 197
    },
    "id": "tHBR1WpB0pXY",
    "outputId": "7bb0f758-c509-4445-92c9-d5c8db1816ee"
   },
   "outputs": [
    {
     "data": {
      "text/html": [
       "<div>\n",
       "<style scoped>\n",
       "    .dataframe tbody tr th:only-of-type {\n",
       "        vertical-align: middle;\n",
       "    }\n",
       "\n",
       "    .dataframe tbody tr th {\n",
       "        vertical-align: top;\n",
       "    }\n",
       "\n",
       "    .dataframe thead th {\n",
       "        text-align: right;\n",
       "    }\n",
       "</style>\n",
       "<table border=\"1\" class=\"dataframe\">\n",
       "  <thead>\n",
       "    <tr style=\"text-align: right;\">\n",
       "      <th></th>\n",
       "      <th>doi</th>\n",
       "      <th>first_approach</th>\n",
       "      <th>second_approach</th>\n",
       "      <th>third_approach</th>\n",
       "      <th>forth_approach</th>\n",
       "    </tr>\n",
       "  </thead>\n",
       "  <tbody>\n",
       "    <tr>\n",
       "      <th>1076</th>\n",
       "      <td>10.1017/s0003055405051865</td>\n",
       "      <td>1</td>\n",
       "      <td>1</td>\n",
       "      <td>1</td>\n",
       "      <td>0</td>\n",
       "    </tr>\n",
       "    <tr>\n",
       "      <th>1116</th>\n",
       "      <td>10.1162/002081802760199917</td>\n",
       "      <td>1</td>\n",
       "      <td>1</td>\n",
       "      <td>1</td>\n",
       "      <td>1</td>\n",
       "    </tr>\n",
       "    <tr>\n",
       "      <th>1166</th>\n",
       "      <td>10.1146/annurev.polisci.2.1.25</td>\n",
       "      <td>1</td>\n",
       "      <td>1</td>\n",
       "      <td>1</td>\n",
       "      <td>0</td>\n",
       "    </tr>\n",
       "    <tr>\n",
       "      <th>1192</th>\n",
       "      <td>10.1111/0020-8833.00102</td>\n",
       "      <td>1</td>\n",
       "      <td>1</td>\n",
       "      <td>1</td>\n",
       "      <td>0</td>\n",
       "    </tr>\n",
       "    <tr>\n",
       "      <th>1423</th>\n",
       "      <td>10.1017/s0020818314000393</td>\n",
       "      <td>1</td>\n",
       "      <td>1</td>\n",
       "      <td>1</td>\n",
       "      <td>0</td>\n",
       "    </tr>\n",
       "  </tbody>\n",
       "</table>\n",
       "</div>"
      ],
      "text/plain": [
       "                                 doi  ...  forth_approach\n",
       "1076       10.1017/s0003055405051865  ...               0\n",
       "1116      10.1162/002081802760199917  ...               1\n",
       "1166  10.1146/annurev.polisci.2.1.25  ...               0\n",
       "1192         10.1111/0020-8833.00102  ...               0\n",
       "1423       10.1017/s0020818314000393  ...               0\n",
       "\n",
       "[5 rows x 5 columns]"
      ]
     },
     "execution_count": 13,
     "metadata": {
      "tags": []
     },
     "output_type": "execute_result"
    }
   ],
   "source": [
    "joined_dataset.loc[joined_dataset[\"second_approach\"].eq(1), joined_dataset.columns.str.contains(\"doi|approach\")].head()"
   ]
  },
  {
   "cell_type": "markdown",
   "metadata": {
    "id": "QOgIJAL316KE"
   },
   "source": [
    "##### Basic stats based on all dataset\n",
    "To give us a better understanding of the scite dataset,"
   ]
  },
  {
   "cell_type": "code",
   "execution_count": null,
   "metadata": {
    "colab": {
     "base_uri": "https://localhost:8080/",
     "height": 167
    },
    "id": "YEzdJm2A2Pf6",
    "outputId": "3bc670b3-0035-4955-f4ca-15fbdc2aef56"
   },
   "outputs": [
    {
     "data": {
      "text/html": [
       "<div>\n",
       "<style scoped>\n",
       "    .dataframe tbody tr th:only-of-type {\n",
       "        vertical-align: middle;\n",
       "    }\n",
       "\n",
       "    .dataframe tbody tr th {\n",
       "        vertical-align: top;\n",
       "    }\n",
       "\n",
       "    .dataframe thead th {\n",
       "        text-align: right;\n",
       "    }\n",
       "</style>\n",
       "<table border=\"1\" class=\"dataframe\">\n",
       "  <thead>\n",
       "    <tr style=\"text-align: right;\">\n",
       "      <th></th>\n",
       "      <th>approach</th>\n",
       "      <th>relevant_publications</th>\n",
       "      <th>percent_of_total</th>\n",
       "    </tr>\n",
       "  </thead>\n",
       "  <tbody>\n",
       "    <tr>\n",
       "      <th>0</th>\n",
       "      <td>first_approach</td>\n",
       "      <td>2859</td>\n",
       "      <td>15.48</td>\n",
       "    </tr>\n",
       "    <tr>\n",
       "      <th>1</th>\n",
       "      <td>forth_approach</td>\n",
       "      <td>2782</td>\n",
       "      <td>15.06</td>\n",
       "    </tr>\n",
       "    <tr>\n",
       "      <th>2</th>\n",
       "      <td>second_approach</td>\n",
       "      <td>235</td>\n",
       "      <td>1.27</td>\n",
       "    </tr>\n",
       "    <tr>\n",
       "      <th>3</th>\n",
       "      <td>third_approach</td>\n",
       "      <td>2644</td>\n",
       "      <td>14.32</td>\n",
       "    </tr>\n",
       "  </tbody>\n",
       "</table>\n",
       "</div>"
      ],
      "text/plain": [
       "          approach  relevant_publications  percent_of_total\n",
       "0   first_approach                   2859             15.48\n",
       "1   forth_approach                   2782             15.06\n",
       "2  second_approach                    235              1.27\n",
       "3   third_approach                   2644             14.32"
      ]
     },
     "execution_count": 14,
     "metadata": {
      "tags": []
     },
     "output_type": "execute_result"
    }
   ],
   "source": [
    "pre_stats = (\n",
    "    joined_dataset.melt(\n",
    "        id_vars=[\"doi\"], \n",
    "        var_name=\"approach\",\n",
    "        value_vars=[\"first_approach\", \"second_approach\", \"third_approach\", \"forth_approach\"],\n",
    "        value_name=\"relevant_publications\"\n",
    "    )\n",
    "    .groupby(\"approach\", as_index=False)[\"relevant_publications\"].sum()\n",
    ")\n",
    "pre_stats[\"percent_of_total\"] = (pre_stats[\"relevant_publications\"] / joined_dataset.shape[0] * 100).round(2)\n",
    "pre_stats"
   ]
  },
  {
   "cell_type": "markdown",
   "metadata": {
    "id": "ABreIfDk4nxE"
   },
   "source": [
    "What we also have to keep in mind is that the LENS API did not respond with 100% full info on the DOIs we passed:\n",
    "1. not all of our DOIs from *scite_* were corrent\n",
    "2. some info is missing from the *LENS*\n",
    "\n",
    "*It might also be fair to calculate % based on the actual number of valid 'fields' responses we recieved, not on the number of rows in our original dataset.*"
   ]
  },
  {
   "cell_type": "code",
   "execution_count": null,
   "metadata": {
    "colab": {
     "base_uri": "https://localhost:8080/"
    },
    "id": "ny5JB1qA6dg4",
    "outputId": "4d9376d0-1ada-441b-bfd2-4ac9babec469"
   },
   "outputs": [
    {
     "name": "stdout",
     "output_type": "stream",
     "text": [
      "Of 18468, we have \"fields\" info on 15100 publications (81.76%)\n"
     ]
    }
   ],
   "source": [
    "valid_responses = joined_dataset.loc[~(joined_dataset[\"fields\"].isna() | joined_dataset[\"fields\"].eq(\"No data.\"))]\n",
    "print(f'Of {joined_dataset.shape[0]}, we have \"fields\" info on {valid_responses.shape[0]} publications ({round(valid_responses.shape[0]/joined_dataset.shape[0]*100, 2)}%)')"
   ]
  },
  {
   "cell_type": "code",
   "execution_count": null,
   "metadata": {
    "colab": {
     "base_uri": "https://localhost:8080/",
     "height": 167
    },
    "id": "Fhbwhy9E5co6",
    "outputId": "5f9d4ab4-86f0-48b2-99d6-fee0712ed8e5"
   },
   "outputs": [
    {
     "data": {
      "text/html": [
       "<div>\n",
       "<style scoped>\n",
       "    .dataframe tbody tr th:only-of-type {\n",
       "        vertical-align: middle;\n",
       "    }\n",
       "\n",
       "    .dataframe tbody tr th {\n",
       "        vertical-align: top;\n",
       "    }\n",
       "\n",
       "    .dataframe thead th {\n",
       "        text-align: right;\n",
       "    }\n",
       "</style>\n",
       "<table border=\"1\" class=\"dataframe\">\n",
       "  <thead>\n",
       "    <tr style=\"text-align: right;\">\n",
       "      <th></th>\n",
       "      <th>approach</th>\n",
       "      <th>relevant_publications</th>\n",
       "      <th>percent_of_total</th>\n",
       "      <th>percent_of_fields</th>\n",
       "    </tr>\n",
       "  </thead>\n",
       "  <tbody>\n",
       "    <tr>\n",
       "      <th>0</th>\n",
       "      <td>first_approach</td>\n",
       "      <td>2859</td>\n",
       "      <td>15.48</td>\n",
       "      <td>18.93</td>\n",
       "    </tr>\n",
       "    <tr>\n",
       "      <th>1</th>\n",
       "      <td>forth_approach</td>\n",
       "      <td>2782</td>\n",
       "      <td>15.06</td>\n",
       "      <td>18.42</td>\n",
       "    </tr>\n",
       "    <tr>\n",
       "      <th>2</th>\n",
       "      <td>second_approach</td>\n",
       "      <td>235</td>\n",
       "      <td>1.27</td>\n",
       "      <td>1.56</td>\n",
       "    </tr>\n",
       "    <tr>\n",
       "      <th>3</th>\n",
       "      <td>third_approach</td>\n",
       "      <td>2644</td>\n",
       "      <td>14.32</td>\n",
       "      <td>17.51</td>\n",
       "    </tr>\n",
       "  </tbody>\n",
       "</table>\n",
       "</div>"
      ],
      "text/plain": [
       "          approach  relevant_publications  percent_of_total  percent_of_fields\n",
       "0   first_approach                   2859             15.48              18.93\n",
       "1   forth_approach                   2782             15.06              18.42\n",
       "2  second_approach                    235              1.27               1.56\n",
       "3   third_approach                   2644             14.32              17.51"
      ]
     },
     "execution_count": 16,
     "metadata": {
      "tags": []
     },
     "output_type": "execute_result"
    }
   ],
   "source": [
    "pre_stats[\"percent_of_fields\"] = (pre_stats[\"relevant_publications\"] / valid_responses.shape[0] * 100).round(2)\n",
    "pre_stats"
   ]
  },
  {
   "cell_type": "markdown",
   "metadata": {
    "id": "vgeHjf4uxcZs"
   },
   "source": [
    "---"
   ]
  },
  {
   "cell_type": "markdown",
   "metadata": {
    "id": "YiIAfHeh0MbD"
   },
   "source": [
    "#### Defining 'verifiable claims'"
   ]
  },
  {
   "cell_type": "markdown",
   "metadata": {
    "id": "JfRKoNzMw93W"
   },
   "source": [
    "As we're only interested in the subset of publications (specifically, those that have supporting/disputing claims), we need to define what 'verifiable claims' consists of practically, that is:\n",
    "* supporing cites >= 1 OR disputing_cites >= 1\n",
    "* 'fields of study' was queried from LENS API (with valid or 'No data.' response)\n",
    "\n"
   ]
  },
  {
   "cell_type": "code",
   "execution_count": null,
   "metadata": {
    "colab": {
     "base_uri": "https://localhost:8080/"
    },
    "id": "MGOIZc5pxbbr",
    "outputId": "ad4adbce-8eca-42d9-82ce-49327e9ce2c9"
   },
   "outputs": [
    {
     "name": "stdout",
     "output_type": "stream",
     "text": [
      "supporting/disputing criteria only (2980, 16)\n",
      "supporting/disputing AND fields of study present (2925, 16)\n",
      "Our working sample, then, is 2925 publications, which is 15.84% of our full dataset\n"
     ]
    }
   ],
   "source": [
    "verifiable_claims = joined_dataset.loc[joined_dataset[\"supporting_cites\"].ge(1) | joined_dataset[\"disputing_cites\"].ge(1)].copy()\n",
    "print(\"supporting/disputing criteria only\", verifiable_claims.shape)\n",
    "\n",
    "verifiable_claims = verifiable_claims.loc[verifiable_claims[\"fields\"].notnull()].copy()\n",
    "print(\"supporting/disputing AND fields of study present\", verifiable_claims.shape)\n",
    "print(f\"Our working sample, then, is {verifiable_claims.shape[0]} publications, which is {round(verifiable_claims.shape[0] / joined_dataset.shape[0] * 100, 2)}% of our full dataset\")"
   ]
  },
  {
   "cell_type": "code",
   "execution_count": null,
   "metadata": {
    "colab": {
     "base_uri": "https://localhost:8080/",
     "height": 551
    },
    "id": "BDCmBH64xqee",
    "outputId": "8609a4a6-1267-4129-a4c9-b6c8cfc52d09"
   },
   "outputs": [
    {
     "data": {
      "text/html": [
       "<div>\n",
       "<style scoped>\n",
       "    .dataframe tbody tr th:only-of-type {\n",
       "        vertical-align: middle;\n",
       "    }\n",
       "\n",
       "    .dataframe tbody tr th {\n",
       "        vertical-align: top;\n",
       "    }\n",
       "\n",
       "    .dataframe thead th {\n",
       "        text-align: right;\n",
       "    }\n",
       "</style>\n",
       "<table border=\"1\" class=\"dataframe\">\n",
       "  <thead>\n",
       "    <tr style=\"text-align: right;\">\n",
       "      <th></th>\n",
       "      <th>doi</th>\n",
       "      <th>title</th>\n",
       "      <th>pmid</th>\n",
       "      <th>authors</th>\n",
       "      <th>year</th>\n",
       "      <th>issns</th>\n",
       "      <th>supporting_cites</th>\n",
       "      <th>disputing_cites</th>\n",
       "      <th>mentioning_cites</th>\n",
       "      <th>total_cites</th>\n",
       "      <th>scite_report_link</th>\n",
       "      <th>fields</th>\n",
       "      <th>first_approach</th>\n",
       "      <th>second_approach</th>\n",
       "      <th>third_approach</th>\n",
       "      <th>forth_approach</th>\n",
       "    </tr>\n",
       "  </thead>\n",
       "  <tbody>\n",
       "    <tr>\n",
       "      <th>0</th>\n",
       "      <td>10.1016/0304-405x(94)00823-j</td>\n",
       "      <td>Poison or placebo? Evidence on the deterrence ...</td>\n",
       "      <td>NaN</td>\n",
       "      <td>['Robert Comment', 'G.William Schwert']</td>\n",
       "      <td>1995.0</td>\n",
       "      <td>['0304-405X']</td>\n",
       "      <td>45.0</td>\n",
       "      <td>7.0</td>\n",
       "      <td>339.0</td>\n",
       "      <td>391.0</td>\n",
       "      <td>https://scite.ai/reports/poison-or-placebo-evi...</td>\n",
       "      <td>Shareholder_Event study_Business_Market for co...</td>\n",
       "      <td>0</td>\n",
       "      <td>0</td>\n",
       "      <td>0</td>\n",
       "      <td>0</td>\n",
       "    </tr>\n",
       "    <tr>\n",
       "      <th>1</th>\n",
       "      <td>10.1017/s0033291714000129</td>\n",
       "      <td>What is the impact of mental health-related st...</td>\n",
       "      <td>NaN</td>\n",
       "      <td>['S. Clement', 'O. Schauman', 'T. Graham', 'F....</td>\n",
       "      <td>2014.0</td>\n",
       "      <td>['0033-2917', '1469-8978']</td>\n",
       "      <td>44.0</td>\n",
       "      <td>2.0</td>\n",
       "      <td>712.0</td>\n",
       "      <td>758.0</td>\n",
       "      <td>https://scite.ai/reports/what-is-the-impact-of...</td>\n",
       "      <td>Psychiatry_Mental health_Ethnic group_Stigma (...</td>\n",
       "      <td>0</td>\n",
       "      <td>0</td>\n",
       "      <td>0</td>\n",
       "      <td>0</td>\n",
       "    </tr>\n",
       "    <tr>\n",
       "      <th>2</th>\n",
       "      <td>10.1126/science.1163732</td>\n",
       "      <td>A Glucosinolate Metabolism Pathway in Living P...</td>\n",
       "      <td>NaN</td>\n",
       "      <td>['P. Bednarek', 'M. Pislewska-Bednarek', 'A. S...</td>\n",
       "      <td>2009.0</td>\n",
       "      <td>['0036-8075', '1095-9203']</td>\n",
       "      <td>38.0</td>\n",
       "      <td>0.0</td>\n",
       "      <td>831.0</td>\n",
       "      <td>869.0</td>\n",
       "      <td>https://scite.ai/reports/a-glucosinolate-metab...</td>\n",
       "      <td>Gene_Myrosinase_Plant cell_Enzyme_Metabolic pa...</td>\n",
       "      <td>0</td>\n",
       "      <td>0</td>\n",
       "      <td>0</td>\n",
       "      <td>0</td>\n",
       "    </tr>\n",
       "    <tr>\n",
       "      <th>3</th>\n",
       "      <td>10.1046/j.1365-2125.2001.01306.x</td>\n",
       "      <td>Attitudes and knowledge of hospital pharmacist...</td>\n",
       "      <td>11167664.0</td>\n",
       "      <td>['Christopher F. Green', 'David R. Mottram', '...</td>\n",
       "      <td>2001.0</td>\n",
       "      <td>['0306-5251']</td>\n",
       "      <td>37.0</td>\n",
       "      <td>2.0</td>\n",
       "      <td>117.0</td>\n",
       "      <td>156.0</td>\n",
       "      <td>https://scite.ai/reports/attitudes-and-knowled...</td>\n",
       "      <td>Epidemiology_Public health_Pediatrics_Hospital...</td>\n",
       "      <td>0</td>\n",
       "      <td>0</td>\n",
       "      <td>0</td>\n",
       "      <td>0</td>\n",
       "    </tr>\n",
       "    <tr>\n",
       "      <th>4</th>\n",
       "      <td>10.1017/cbo9780511897948</td>\n",
       "      <td>The Neural Crest</td>\n",
       "      <td>NaN</td>\n",
       "      <td>['Nicole Le Douarin', 'Chaya Kalcheim']</td>\n",
       "      <td>1999.0</td>\n",
       "      <td>[]</td>\n",
       "      <td>37.0</td>\n",
       "      <td>0.0</td>\n",
       "      <td>1472.0</td>\n",
       "      <td>1509.0</td>\n",
       "      <td>https://scite.ai/reports/the-neural-crest-xYYxGD</td>\n",
       "      <td>Neural fold_Neural crest_Neuroscience_Neural p...</td>\n",
       "      <td>0</td>\n",
       "      <td>0</td>\n",
       "      <td>0</td>\n",
       "      <td>0</td>\n",
       "    </tr>\n",
       "  </tbody>\n",
       "</table>\n",
       "</div>"
      ],
      "text/plain": [
       "                                doi  ... forth_approach\n",
       "0      10.1016/0304-405x(94)00823-j  ...              0\n",
       "1         10.1017/s0033291714000129  ...              0\n",
       "2           10.1126/science.1163732  ...              0\n",
       "3  10.1046/j.1365-2125.2001.01306.x  ...              0\n",
       "4          10.1017/cbo9780511897948  ...              0\n",
       "\n",
       "[5 rows x 16 columns]"
      ]
     },
     "execution_count": 18,
     "metadata": {
      "tags": []
     },
     "output_type": "execute_result"
    }
   ],
   "source": [
    "verifiable_claims.head()"
   ]
  },
  {
   "cell_type": "markdown",
   "metadata": {
    "id": "uUXMz-sx0Q4X"
   },
   "source": [
    "#### Stats\n",
    "\n"
   ]
  },
  {
   "cell_type": "code",
   "execution_count": null,
   "metadata": {
    "colab": {
     "base_uri": "https://localhost:8080/",
     "height": 167
    },
    "id": "x2LO46MoIQx0",
    "outputId": "306ac77c-2bfc-47f1-e0cd-2b4b56ccfe3b"
   },
   "outputs": [
    {
     "data": {
      "text/html": [
       "<div>\n",
       "<style scoped>\n",
       "    .dataframe tbody tr th:only-of-type {\n",
       "        vertical-align: middle;\n",
       "    }\n",
       "\n",
       "    .dataframe tbody tr th {\n",
       "        vertical-align: top;\n",
       "    }\n",
       "\n",
       "    .dataframe thead th {\n",
       "        text-align: right;\n",
       "    }\n",
       "</style>\n",
       "<table border=\"1\" class=\"dataframe\">\n",
       "  <thead>\n",
       "    <tr style=\"text-align: right;\">\n",
       "      <th></th>\n",
       "      <th>approach</th>\n",
       "      <th>supporting_cites</th>\n",
       "      <th>disputing_cites</th>\n",
       "      <th>relevant_publications</th>\n",
       "    </tr>\n",
       "  </thead>\n",
       "  <tbody>\n",
       "    <tr>\n",
       "      <th>0</th>\n",
       "      <td>first_approach</td>\n",
       "      <td>156.0</td>\n",
       "      <td>23.0</td>\n",
       "      <td>84</td>\n",
       "    </tr>\n",
       "    <tr>\n",
       "      <th>1</th>\n",
       "      <td>forth_approach</td>\n",
       "      <td>147.0</td>\n",
       "      <td>22.0</td>\n",
       "      <td>79</td>\n",
       "    </tr>\n",
       "    <tr>\n",
       "      <th>2</th>\n",
       "      <td>second_approach</td>\n",
       "      <td>12.0</td>\n",
       "      <td>2.0</td>\n",
       "      <td>8</td>\n",
       "    </tr>\n",
       "    <tr>\n",
       "      <th>3</th>\n",
       "      <td>third_approach</td>\n",
       "      <td>122.0</td>\n",
       "      <td>22.0</td>\n",
       "      <td>70</td>\n",
       "    </tr>\n",
       "  </tbody>\n",
       "</table>\n",
       "</div>"
      ],
      "text/plain": [
       "          approach  supporting_cites  disputing_cites  relevant_publications\n",
       "0   first_approach             156.0             23.0                     84\n",
       "1   forth_approach             147.0             22.0                     79\n",
       "2  second_approach              12.0              2.0                      8\n",
       "3   third_approach             122.0             22.0                     70"
      ]
     },
     "execution_count": 19,
     "metadata": {
      "tags": []
     },
     "output_type": "execute_result"
    }
   ],
   "source": [
    "stats = verifiable_claims.melt(\n",
    "    id_vars=[\"doi\", \"supporting_cites\", \"disputing_cites\"], \n",
    "    var_name=\"approach\",\n",
    "    value_vars=[\"first_approach\", \"second_approach\", \"third_approach\", \"forth_approach\"],\n",
    "    value_name=\"relevant_publications\"\n",
    ")\n",
    "stats = (stats\n",
    "    .loc[stats[\"relevant_publications\"].ge(1)]\n",
    "    .groupby(\"approach\", as_index=False).sum()    \n",
    ")\n",
    "stats"
   ]
  },
  {
   "cell_type": "code",
   "execution_count": null,
   "metadata": {
    "colab": {
     "base_uri": "https://localhost:8080/",
     "height": 167
    },
    "id": "tq7q2PG4MmdG",
    "outputId": "272f1d3b-78de-411e-afdf-89ebd55c4f28"
   },
   "outputs": [
    {
     "data": {
      "text/html": [
       "<div>\n",
       "<style scoped>\n",
       "    .dataframe tbody tr th:only-of-type {\n",
       "        vertical-align: middle;\n",
       "    }\n",
       "\n",
       "    .dataframe tbody tr th {\n",
       "        vertical-align: top;\n",
       "    }\n",
       "\n",
       "    .dataframe thead th {\n",
       "        text-align: right;\n",
       "    }\n",
       "</style>\n",
       "<table border=\"1\" class=\"dataframe\">\n",
       "  <thead>\n",
       "    <tr style=\"text-align: right;\">\n",
       "      <th></th>\n",
       "      <th>approach</th>\n",
       "      <th>label</th>\n",
       "      <th>relevant_publications</th>\n",
       "      <th>verifiable_publications</th>\n",
       "      <th>% of all total verifiable publications</th>\n",
       "      <th>% of varifiable claims</th>\n",
       "      <th>supporting_cites</th>\n",
       "      <th>disputing_cites</th>\n",
       "    </tr>\n",
       "  </thead>\n",
       "  <tbody>\n",
       "    <tr>\n",
       "      <th>0</th>\n",
       "      <td>first_approach</td>\n",
       "      <td>PS or IR or IS</td>\n",
       "      <td>2859</td>\n",
       "      <td>84</td>\n",
       "      <td>2.87</td>\n",
       "      <td>2.94</td>\n",
       "      <td>156.0</td>\n",
       "      <td>23.0</td>\n",
       "    </tr>\n",
       "    <tr>\n",
       "      <th>1</th>\n",
       "      <td>forth_approach</td>\n",
       "      <td>PS</td>\n",
       "      <td>2782</td>\n",
       "      <td>79</td>\n",
       "      <td>2.70</td>\n",
       "      <td>2.84</td>\n",
       "      <td>147.0</td>\n",
       "      <td>22.0</td>\n",
       "    </tr>\n",
       "    <tr>\n",
       "      <th>2</th>\n",
       "      <td>second_approach</td>\n",
       "      <td>IR or IS</td>\n",
       "      <td>235</td>\n",
       "      <td>8</td>\n",
       "      <td>0.27</td>\n",
       "      <td>3.40</td>\n",
       "      <td>12.0</td>\n",
       "      <td>2.0</td>\n",
       "    </tr>\n",
       "    <tr>\n",
       "      <th>3</th>\n",
       "      <td>third_approach</td>\n",
       "      <td>(PS or IR or IS) and (not Criminal)</td>\n",
       "      <td>2644</td>\n",
       "      <td>70</td>\n",
       "      <td>2.39</td>\n",
       "      <td>2.65</td>\n",
       "      <td>122.0</td>\n",
       "      <td>22.0</td>\n",
       "    </tr>\n",
       "  </tbody>\n",
       "</table>\n",
       "</div>"
      ],
      "text/plain": [
       "          approach  ... disputing_cites\n",
       "0   first_approach  ...            23.0\n",
       "1   forth_approach  ...            22.0\n",
       "2  second_approach  ...             2.0\n",
       "3   third_approach  ...            22.0\n",
       "\n",
       "[4 rows x 8 columns]"
      ]
     },
     "execution_count": 20,
     "metadata": {
      "tags": []
     },
     "output_type": "execute_result"
    }
   ],
   "source": [
    "# comparing with all relevant publications, not only verifiable ones\n",
    "final_result = pd.merge(\n",
    "    stats.rename(columns={\"relevant_publications\": \"verifiable_publications\"}), \n",
    "    pre_stats.loc[:, [\"approach\", \"relevant_publications\"]],\n",
    "    on=\"approach\",\n",
    "    how=\"left\"\n",
    ")\n",
    "final_result[\"% of all total verifiable publications\"] = (final_result[\"verifiable_publications\"] / verifiable_claims.shape[0] * 100).round(2)\n",
    "final_result[\"% of varifiable claims\"] = (final_result[\"verifiable_publications\"] / final_result[\"relevant_publications\"] * 100).round(2)\n",
    "final_result[\"label\"] = final_result[\"approach\"].map({\n",
    "    \"first_approach\": \"PS or IR or IS\", #\"Political science or International relations or International security\",\n",
    "    \"second_approach\": \"IR or IS\", #\"International relations or International security\",\n",
    "    \"third_approach\": \"(PS or IR or IS) and (not Criminal)\", #\"(Political science or International relations or International security) and (not Criminal)\",\n",
    "    \"forth_approach\": \"PS\", #Political Science\n",
    "})\n",
    "final_result[[\"approach\", \"label\", \"relevant_publications\", \"verifiable_publications\", \"% of all total verifiable publications\", \"% of varifiable claims\", \"supporting_cites\", \"disputing_cites\"]]"
   ]
  },
  {
   "cell_type": "markdown",
   "metadata": {
    "id": "I3jTNhRsQfYJ"
   },
   "source": [
    "**Results:**\n",
    "1. of all *'political science or international relations or international security'* (2859) relevant publications, we have **84** (2.94%) verifiable claims with 156 supporting and 23 disputing cites that cover 2.87% of all 2925 publications of our sample. \n",
    "2. of all *'international relations or internaltional security'* (235) relevant publications, we have **8** (3.4%) verifiable claims with 12 supporting and 2 disputing cites that cover 0.27% of all 2925 publications of our sample.\n",
    "3. of all *'(political science or international relations or international security) and (not criminal))'* (2644) relevant publications, we have **70** (2.65%) verifiable claims with 122 supporting and 22 disputing cites that cover 2.39% of all 2925 publications of our sample.\n",
    "4. of all *'political science'* (2782) relevant publications, we have **79** (2.94%) verifiable claims with 147 supporting and 22 disputing cites that cover 2.7% of all 2925 publications of our sample."
   ]
  },
  {
   "cell_type": "code",
   "execution_count": null,
   "metadata": {
    "colab": {
     "base_uri": "https://localhost:8080/",
     "height": 774
    },
    "id": "cHUaFedWq2q6",
    "outputId": "b387a4bb-e9a4-43bd-9525-776ac6621674"
   },
   "outputs": [
    {
     "data": {
      "text/html": [
       "<div>\n",
       "<style scoped>\n",
       "    .dataframe tbody tr th:only-of-type {\n",
       "        vertical-align: middle;\n",
       "    }\n",
       "\n",
       "    .dataframe tbody tr th {\n",
       "        vertical-align: top;\n",
       "    }\n",
       "\n",
       "    .dataframe thead th {\n",
       "        text-align: right;\n",
       "    }\n",
       "</style>\n",
       "<table border=\"1\" class=\"dataframe\">\n",
       "  <thead>\n",
       "    <tr style=\"text-align: right;\">\n",
       "      <th></th>\n",
       "      <th>doi</th>\n",
       "      <th>title</th>\n",
       "      <th>pmid</th>\n",
       "      <th>authors</th>\n",
       "      <th>year</th>\n",
       "      <th>issns</th>\n",
       "      <th>supporting_cites</th>\n",
       "      <th>disputing_cites</th>\n",
       "      <th>mentioning_cites</th>\n",
       "      <th>total_cites</th>\n",
       "      <th>scite_report_link</th>\n",
       "      <th>fields</th>\n",
       "      <th>first_approach</th>\n",
       "      <th>second_approach</th>\n",
       "      <th>third_approach</th>\n",
       "      <th>forth_approach</th>\n",
       "    </tr>\n",
       "  </thead>\n",
       "  <tbody>\n",
       "    <tr>\n",
       "      <th>1076</th>\n",
       "      <td>10.1017/s0003055405051865</td>\n",
       "      <td>Military Coercion in Interstate Crises</td>\n",
       "      <td>NaN</td>\n",
       "      <td>['Branislav L. Slantchev']</td>\n",
       "      <td>2005.0</td>\n",
       "      <td>['0003-0554', '1537-5943']</td>\n",
       "      <td>2.0</td>\n",
       "      <td>0.0</td>\n",
       "      <td>61.0</td>\n",
       "      <td>63.0</td>\n",
       "      <td>https://scite.ai/reports/military-coercion-in-...</td>\n",
       "      <td>Economics_Valuation (finance)_Law and economic...</td>\n",
       "      <td>1</td>\n",
       "      <td>1</td>\n",
       "      <td>1</td>\n",
       "      <td>0</td>\n",
       "    </tr>\n",
       "    <tr>\n",
       "      <th>1116</th>\n",
       "      <td>10.1162/002081802760199917</td>\n",
       "      <td>Ethnic Bargaining in the Shadow of Third-Party...</td>\n",
       "      <td>NaN</td>\n",
       "      <td>['Rupen Cetinyan']</td>\n",
       "      <td>2002.0</td>\n",
       "      <td>['0020-8183', '1531-5088']</td>\n",
       "      <td>2.0</td>\n",
       "      <td>0.0</td>\n",
       "      <td>49.0</td>\n",
       "      <td>51.0</td>\n",
       "      <td>https://scite.ai/reports/ethnic-bargaining-in-...</td>\n",
       "      <td>Empirical research_Ethnic group_Political econ...</td>\n",
       "      <td>1</td>\n",
       "      <td>1</td>\n",
       "      <td>1</td>\n",
       "      <td>1</td>\n",
       "    </tr>\n",
       "    <tr>\n",
       "      <th>1166</th>\n",
       "      <td>10.1146/annurev.polisci.2.1.25</td>\n",
       "      <td>DETERRENCE AND INTERNATIONAL CONFLICT: Empiric...</td>\n",
       "      <td>NaN</td>\n",
       "      <td>['Paul K. Huth']</td>\n",
       "      <td>1999.0</td>\n",
       "      <td>['1094-2939', '1545-1577']</td>\n",
       "      <td>2.0</td>\n",
       "      <td>0.0</td>\n",
       "      <td>36.0</td>\n",
       "      <td>38.0</td>\n",
       "      <td>https://scite.ai/reports/deterrence-and-intern...</td>\n",
       "      <td>Public economics_Positive economics_Empirical ...</td>\n",
       "      <td>1</td>\n",
       "      <td>1</td>\n",
       "      <td>1</td>\n",
       "      <td>0</td>\n",
       "    </tr>\n",
       "    <tr>\n",
       "      <th>1192</th>\n",
       "      <td>10.1111/0020-8833.00102</td>\n",
       "      <td>Rigor Mortis or Rigor, More Tests: Necessity, ...</td>\n",
       "      <td>NaN</td>\n",
       "      <td>['Frank P. Harvey']</td>\n",
       "      <td>1998.0</td>\n",
       "      <td>['0020-8833', '1468-2478']</td>\n",
       "      <td>2.0</td>\n",
       "      <td>0.0</td>\n",
       "      <td>13.0</td>\n",
       "      <td>15.0</td>\n",
       "      <td>https://scite.ai/reports/rigor-mortis-or-rigor...</td>\n",
       "      <td>Scientific theory_Positive economics_Economics...</td>\n",
       "      <td>1</td>\n",
       "      <td>1</td>\n",
       "      <td>1</td>\n",
       "      <td>0</td>\n",
       "    </tr>\n",
       "    <tr>\n",
       "      <th>1423</th>\n",
       "      <td>10.1017/s0020818314000393</td>\n",
       "      <td>Revisiting Reputation: How Past Actions Matter...</td>\n",
       "      <td>NaN</td>\n",
       "      <td>['Alex Weisiger', 'Keren Yarhi-Milo']</td>\n",
       "      <td>2015.0</td>\n",
       "      <td>['0020-8183', '1531-5088']</td>\n",
       "      <td>2.0</td>\n",
       "      <td>0.0</td>\n",
       "      <td>14.0</td>\n",
       "      <td>16.0</td>\n",
       "      <td>https://scite.ai/reports/revisiting-reputation...</td>\n",
       "      <td>Positive economics_Sociology_International con...</td>\n",
       "      <td>1</td>\n",
       "      <td>1</td>\n",
       "      <td>1</td>\n",
       "      <td>0</td>\n",
       "    </tr>\n",
       "    <tr>\n",
       "      <th>1478</th>\n",
       "      <td>10.2139/ssrn.2552820</td>\n",
       "      <td>Can the International Criminal Court Deter Atr...</td>\n",
       "      <td>NaN</td>\n",
       "      <td>['Hyeran Jo', 'Beth A. Simmons']</td>\n",
       "      <td>2014.0</td>\n",
       "      <td>['1556-5068']</td>\n",
       "      <td>1.0</td>\n",
       "      <td>0.0</td>\n",
       "      <td>8.0</td>\n",
       "      <td>9.0</td>\n",
       "      <td>https://scite.ai/reports/can-the-international...</td>\n",
       "      <td>Political science_War crime_Law_Criminal court...</td>\n",
       "      <td>1</td>\n",
       "      <td>1</td>\n",
       "      <td>0</td>\n",
       "      <td>1</td>\n",
       "    </tr>\n",
       "    <tr>\n",
       "      <th>1719</th>\n",
       "      <td>10.1111/j.1468-2478.2010.00621.x</td>\n",
       "      <td>Explaining the Deterrence Effect of Human Righ...</td>\n",
       "      <td>NaN</td>\n",
       "      <td>['Hunjoon Kim', 'Kathryn Sikkink']</td>\n",
       "      <td>2010.0</td>\n",
       "      <td>['0020-8833']</td>\n",
       "      <td>1.0</td>\n",
       "      <td>1.0</td>\n",
       "      <td>77.0</td>\n",
       "      <td>79.0</td>\n",
       "      <td>https://scite.ai/reports/explaining-the-deterr...</td>\n",
       "      <td>Economics_Social work_Human rights_Law_Sanctio...</td>\n",
       "      <td>1</td>\n",
       "      <td>1</td>\n",
       "      <td>1</td>\n",
       "      <td>0</td>\n",
       "    </tr>\n",
       "    <tr>\n",
       "      <th>15876</th>\n",
       "      <td>10.3844/jssp.2018.124.128</td>\n",
       "      <td>Theoretical Context of the Nuclear Posture Review</td>\n",
       "      <td>NaN</td>\n",
       "      <td>['Timothy Sands', 'Richard Mihalik', 'Harold C...</td>\n",
       "      <td>2018.0</td>\n",
       "      <td>['1549-3652']</td>\n",
       "      <td>0.0</td>\n",
       "      <td>1.0</td>\n",
       "      <td>5.0</td>\n",
       "      <td>6.0</td>\n",
       "      <td>https://scite.ai/reports/theoretical-context-o...</td>\n",
       "      <td>Rational choice theory_Political science_Law a...</td>\n",
       "      <td>1</td>\n",
       "      <td>1</td>\n",
       "      <td>1</td>\n",
       "      <td>1</td>\n",
       "    </tr>\n",
       "  </tbody>\n",
       "</table>\n",
       "</div>"
      ],
      "text/plain": [
       "                                    doi  ... forth_approach\n",
       "1076          10.1017/s0003055405051865  ...              0\n",
       "1116         10.1162/002081802760199917  ...              1\n",
       "1166     10.1146/annurev.polisci.2.1.25  ...              0\n",
       "1192            10.1111/0020-8833.00102  ...              0\n",
       "1423          10.1017/s0020818314000393  ...              0\n",
       "1478               10.2139/ssrn.2552820  ...              1\n",
       "1719   10.1111/j.1468-2478.2010.00621.x  ...              0\n",
       "15876         10.3844/jssp.2018.124.128  ...              1\n",
       "\n",
       "[8 rows x 16 columns]"
      ]
     },
     "execution_count": 21,
     "metadata": {
      "tags": []
     },
     "output_type": "execute_result"
    }
   ],
   "source": [
    "# e.g. 8 IR or IS publications\n",
    "verifiable_claims.loc[verifiable_claims[\"second_approach\"].eq(1)]"
   ]
  }
 ],
 "metadata": {
  "colab": {
   "collapsed_sections": [],
   "name": "Scite Lens Analysis.ipynb",
   "provenance": [],
   "toc_visible": true
  },
  "kernelspec": {
   "display_name": "Python 3",
   "language": "python",
   "name": "python3"
  },
  "language_info": {
   "name": "python"
  }
 },
 "nbformat": 4,
 "nbformat_minor": 4
}
